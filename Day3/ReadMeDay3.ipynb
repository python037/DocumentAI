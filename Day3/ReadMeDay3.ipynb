{
 "cells": [
  {
   "cell_type": "markdown",
   "metadata": {},
   "source": [
    "# RAG Chat Assistant\n",
    "\n",
    "This is a simple Retrieval-Augmented Generation (RAG) application that allows you to upload documents and images, and then chat with them to get source-backed answers."
   ]
  },
  {
   "cell_type": "markdown",
   "metadata": {},
   "source": [
    "The application has two main components:\n",
    "\n",
    "1.  **Flask Backend**: Handles file processing, OCR, text chunking, vector indexing, and the RAG chain.\n",
    "2.  **Gradio Frontend**: Provides a user-friendly web interface for uploading files and chatting."
   ]
  },
  {
   "cell_type": "markdown",
   "metadata": {},
   "source": [
    "## Features\n",
    "\n",
    "* **File Upload**: Supports PDFs, text files, and images (PNG, JPG, TIFF).\n",
    "* **Automatic OCR**: Extracts text from images and scanned PDFs.\n",
    "* **Vector Indexing**: Creates a searchable knowledge base from your documents using FAISS.\n",
    "* **Chat Interface**: Ask questions and get answers generated from the content of your files.\n",
    "* **Source Citations**: Every answer includes citations pointing to the original source document and page number."
   ]
  },
  {
   "cell_type": "markdown",
   "metadata": {},
   "source": [
    "## Setup and Running\n",
    "\n",
    "You will need two separate terminal windows to run the backend and frontend. The following cells demonstrate the commands you would run in those terminals."
   ]
  },
  {
   "cell_type": "markdown",
   "metadata": {},
   "source": [
    "### 1. Run the Backend Server\n",
    "\n",
    "First, set up and start the Flask backend. These commands should be run in your first terminal."
   ]
  },
  {
   "cell_type": "code",
   "execution_count": null,
   "metadata": {},
   "outputs": [],
   "source": [
    "# (Optional) Create and activate a virtual environment\n",
    "!python -m venv .venv\n",
    "!source .venv/bin/activate  # On Windows: .venv\\Scripts\\activate"
   ]
  },
  {
   "cell_type": "code",
   "execution_count": null,
   "metadata": {},
   "outputs": [],
   "source": [
    "# Install backend requirements\n",
    "!pip install -r requirements.txt"
   ]
  },
  {
   "cell_type": "code",
   "execution_count": null,
   "metadata": {},
   "outputs": [],
   "source": [
    "# Run the backend server\n",
    "# The backend will be running at http://localhost:8000\n",
    "!python app.py"
   ]
  },
  {
   "cell_type": "markdown",
   "metadata": {},
   "source": [
    "### 2. Run the Frontend UI\n",
    "\n",
    "In a new terminal, start the Gradio frontend. Remember to activate the virtual environment if you created one."
   ]
  },
  {
   "cell_type": "code",
   "execution_count": null,
   "metadata": {},
   "outputs": [],
   "source": [
    "# Run the Gradio app\n",
    "# Open your web browser and navigate to the URL provided (usually http://127.0.0.1:7860)\n",
    "!python gradio_app.py"
   ]
  },
  {
   "cell_type": "markdown",
   "metadata": {},
   "source": [
    "## How to Use\n",
    "\n",
    "1.  **Check Backend Status**: On the Gradio UI, click the \"Check Backend Status\" button to ensure the frontend is connected to the backend.\n",
    "2.  **Upload Files**: Go to the \"Upload Files\" tab, drag and drop your documents or images, and click the appropriate \"Index\" button.\n",
    "3.  **Chat**: Go to the \"Chat\" tab, ask a question about your documents, and press Enter or click \"Send\". The answer and its sources will appear."
   ]
  }
 ],
 "metadata": {
  "kernelspec": {
   "display_name": "Python 3",
   "language": "python",
   "name": "python3"
  },
  "language_info": {
   "codemirror_mode": {
    "name": "ipython",
    "version": 3
   },
   "file_extension": ".py",
   "mimetype": "text/x-python",
   "name": "python",
   "nbconvert_exporter": "python",
   "pygments_lexer": "ipython3",
   "version": "3.10.0"
  }
 },
 "nbformat": 4,
 "nbformat_minor": 4
}
